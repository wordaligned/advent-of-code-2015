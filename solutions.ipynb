{
 "cells": [
  {
   "cell_type": "markdown",
   "metadata": {},
   "source": [
    "# [Advent of Code 2015](https://adventofcode.com/2015)\n",
    "Python solutions to the 2015 Christmas puzzles.\n",
    "\n",
    "First, import standard libraries we'll use throughout."
   ]
  },
  {
   "cell_type": "code",
   "execution_count": 1,
   "metadata": {},
   "outputs": [],
   "source": [
    "import collections\n",
    "import dataclasses\n",
    "import functools\n",
    "import itertools as its\n",
    "import json\n",
    "import math\n",
    "import operator\n",
    "import random\n",
    "import re\n",
    "import string\n",
    "import typing\n",
    "from pprint import pprint"
   ]
  },
  {
   "cell_type": "markdown",
   "metadata": {},
   "source": [
    "Next, some general purpose helper functions for reading and parsing inputs etc."
   ]
  },
  {
   "cell_type": "code",
   "execution_count": 2,
   "metadata": {},
   "outputs": [],
   "source": [
    "def day(day_n):\n",
    "    'Load the input for `day_n`'\n",
    "    return open(f'input/{day_n}').read()\n",
    "\n",
    "def ilen(xs):\n",
    "    'Return the length of an iterable'\n",
    "    return sum(1 for _ in iter(xs))\n",
    "\n",
    "def last(xs):\n",
    "    'Return the last element of an iterable sequence.'\n",
    "    xs = iter(xs)\n",
    "    return collections.deque(xs, maxlen=1)[0]\n",
    "\n",
    "def ints(s):\n",
    "    'Return a tuple of integer tokens in `s`.'\n",
    "    return tuple(int(x) for x in re.findall(r'[-+]?\\d+', s))\n",
    "\n",
    "def array(data):\n",
    "    'Convert the data into a tuple of int-tuples.'\n",
    "    return tuple(ints(line) for line in data.splitlines())\n",
    "\n",
    "def swap(xs, i, j):\n",
    "    'Swap items in a sequence.'\n",
    "    xs[i], xs[j] = xs[j], xs[i]\n",
    "\n",
    "def nth(xs, n):\n",
    "    'Return the nth element of a sequence.'\n",
    "    return next(its.islice(xs, n, None))\n",
    "\n",
    "def take(xs, n=None):\n",
    "    '''Return (up to) first `n` items of a sequence\n",
    "    or the whole sequence if `n` is `None`\n",
    "    '''\n",
    "    return list(xs) if n is None else [x for x, _ in zip(xs, range(n))]\n",
    "\n",
    "def overlapping(xs, n):\n",
    "    '''Generate overlapping n-tuples from `xs`\n",
    "\n",
    "    overlapping('ABCDEFG', 3) --> ABC BCD CDE DEF EFG\n",
    "    '''\n",
    "    if isinstance(xs, collections.abc.Sequence):\n",
    "        yield from (xs[i:i+n] for i in range(len(xs) + 1 - n))\n",
    "    else:\n",
    "        result = collections.deque(maxlen=n)\n",
    "        for x in xs:\n",
    "            result.append(x)\n",
    "            if len(result) == n:\n",
    "                yield tuple(result)\n",
    "                \n",
    "def pairwise(iterable):\n",
    "    's -> (s0,s1), (s1,s2), (s2, s3), ...'\n",
    "    return overlapping(iterable, 2)\n",
    "\n",
    "def unfold(fn, x):\n",
    "    while True:\n",
    "        yield x\n",
    "        x = fn(x)\n",
    "\n",
    "def chunked(xs, n):\n",
    "    'Collect `xs` into chunks of length `n`'\n",
    "    return zip(*[iter(xs)] * n)\n",
    "\n",
    "def manhattan_distance(P, Q):\n",
    "    'Return the city block distance from `P` to `Q`'\n",
    "    return sum(math.fabs(p-q) for p,q in zip(P, Q))\n",
    "\n",
    "def neighbours4(x, y):\n",
    "    'Return the horizontal and vertical neighbours of `(x, y)`'\n",
    "    return (x,y-1),(x-1,y),(x+1,y),(x,y+1)\n",
    "\n",
    "def neighbours8(x, y):\n",
    "    'Return the horizontal, vertical and diagonal neighbours of `(x, y)`'\n",
    "    return ((x-1,y-1),(x-1,y),(x-1,y+1),\n",
    "            (x,y-1),(x,y+1),\n",
    "            (x+1,y-1),(x+1,y),(x+1,y+1))\n",
    "\n",
    "def unique(xs):\n",
    "    'Return `True` iff no elements of `xs` are repeated'\n",
    "    return len(xs) == len(set(xs))\n",
    "\n",
    "def mapt(f, xs):\n",
    "    return tuple(map(f, xs))\n",
    "\n",
    "def atom(s):\n",
    "    try:\n",
    "        return int(s)\n",
    "    except ValueError:\n",
    "        return s\n",
    "\n",
    "def id_(x):\n",
    "    return x\n",
    "    \n",
    "def render_grid(grid, fill_ch=' '):\n",
    "    '''Convert `grid` into a printable form\n",
    "    \n",
    "    grid - maps 2D points to single chars\n",
    "    fill_ch - used for chars not in the grid\n",
    "    '''\n",
    "    xlo, xhi = min(map(first, grid)), max(map(first, grid))\n",
    "    ylo, yhi = min(map(second, grid)), max(map(second, grid))\n",
    "    return ncat(cat(grid.get((x,y), fill_ch)\n",
    "                    for x in range(xlo, xhi+1))\n",
    "                for y in range(ylo, yhi+1))\n",
    "\n",
    "def draw_grid(grid, fill_ch=' '):\n",
    "    print(render_grid(grid, fill_ch))       \n",
    "\n",
    "flatten = its.chain.from_iterable\n",
    "cat = ''.join\n",
    "ncat = '\\n'.join\n",
    "first = operator.itemgetter(0)\n",
    "second = operator.itemgetter(1)"
   ]
  },
  {
   "cell_type": "markdown",
   "metadata": {},
   "source": [
    "## [Day 1](https://adventofcode.com/2015/day/1) Not Quite Lisp\n",
    "\n",
    "The input is a string of parentheses which correspond to Santa going up and down in a building:\n",
    "> An opening parenthesis, (, means he should go up one floor, and a closing parenthesis, ), means he should go down one floor.\n",
    "\n",
    "Part one asks what floor Santa ends up on."
   ]
  },
  {
   "cell_type": "code",
   "execution_count": 3,
   "metadata": {},
   "outputs": [
    {
     "data": {
      "text/plain": [
       "138"
      ]
     },
     "execution_count": 3,
     "metadata": {},
     "output_type": "execute_result"
    }
   ],
   "source": [
    "day1 = day(1)\n",
    "day1.count('(') - day1.count(')')"
   ]
  },
  {
   "cell_type": "markdown",
   "metadata": {},
   "source": [
    "For part two we're asked when Santa first visits the basement, i.e. floor `-1`."
   ]
  },
  {
   "cell_type": "code",
   "execution_count": 4,
   "metadata": {},
   "outputs": [
    {
     "data": {
      "text/plain": [
       "1771"
      ]
     },
     "execution_count": 4,
     "metadata": {},
     "output_type": "execute_result"
    }
   ],
   "source": [
    "floor = 0\n",
    "steps = enumerate(day1, 1)\n",
    "while floor != -1:\n",
    "    t, c = next(steps)\n",
    "    floor += {'(': 1, ')':-1}[c]\n",
    "t    "
   ]
  },
  {
   "cell_type": "markdown",
   "metadata": {},
   "source": [
    "## [Day 2](https://adventofcode.com/2015/day/2) I Was Told There Would Be No Math\n",
    "\n",
    "We have to calculate how much wrapping paper is required for a set of parcels. Each line of the input gives a parcel's dimensions, e.g. `3x11x24`."
   ]
  },
  {
   "cell_type": "code",
   "execution_count": 5,
   "metadata": {},
   "outputs": [
    {
     "data": {
      "text/plain": [
       "1588178"
      ]
     },
     "execution_count": 5,
     "metadata": {},
     "output_type": "execute_result"
    }
   ],
   "source": [
    "def wrapping_paper(*sides):\n",
    "    # Enough to cover the parcel + smallest side excess\n",
    "    a, b, c = sorted(sides)\n",
    "    return 3*a*b + 2*(b*c + c*a)\n",
    "\n",
    "sum(wrapping_paper(*ints(s)) for s in day(2).splitlines())"
   ]
  },
  {
   "cell_type": "markdown",
   "metadata": {},
   "source": [
    "Part two asked how much ribbon is needed for the parcels."
   ]
  },
  {
   "cell_type": "code",
   "execution_count": 6,
   "metadata": {},
   "outputs": [
    {
     "data": {
      "text/plain": [
       "3783758"
      ]
     },
     "execution_count": 6,
     "metadata": {},
     "output_type": "execute_result"
    }
   ],
   "source": [
    "def ribbon(*sides):\n",
    "    # Perimeter of smallest side + parcel volume for bow\n",
    "    a, b, c = sorted(sides)\n",
    "    return 2*(a + b) + a*b*c\n",
    "\n",
    "sum(ribbon(*ints(s)) for s in day(2).splitlines())"
   ]
  },
  {
   "cell_type": "markdown",
   "metadata": {},
   "source": [
    "## [Day 3](https://adventofcode.com/2015/day/3) Perfectly Spherical Houses in a Vacuum\n",
    "\n",
    "A bit like Day 1, a string of characters corresponds to steps, this time in 2D, using the ascii arrows `<>^v`. How many positions in the grid do we visit? Let's use the complex plane as our map, so taking a step is done by adding the step direction."
   ]
  },
  {
   "cell_type": "code",
   "execution_count": 7,
   "metadata": {},
   "outputs": [
    {
     "data": {
      "text/plain": [
       "2572"
      ]
     },
     "execution_count": 7,
     "metadata": {},
     "output_type": "execute_result"
    }
   ],
   "source": [
    "def traverse_grid(steps, pos=0):\n",
    "    'Yield positions visited by Santa'\n",
    "    yield pos\n",
    "    for s in steps:\n",
    "        pos += {'^':-1j, '>':1, 'v':1j, '<':-1}[s]\n",
    "        yield pos\n",
    "\n",
    "len(set(traverse_grid(day(3))))"
   ]
  },
  {
   "cell_type": "markdown",
   "metadata": {},
   "source": [
    "For part two, Santa and Robo-Santa take steps alternately."
   ]
  },
  {
   "cell_type": "code",
   "execution_count": 8,
   "metadata": {},
   "outputs": [
    {
     "data": {
      "text/plain": [
       "2631"
      ]
     },
     "execution_count": 8,
     "metadata": {},
     "output_type": "execute_result"
    }
   ],
   "source": [
    "def traverse_grid(steps, n_santas=2):\n",
    "    'Yield positions visited by the Santas'\n",
    "    santas = [0] * n_santas\n",
    "    yield from santas\n",
    "    for s, i in zip(steps, its.cycle(list(range(n_santas)))):\n",
    "        santas[i] += {'^':-1j, '>':1, 'v':1j, '<':-1}[s]\n",
    "        yield santas[i]\n",
    "\n",
    "assert len(set(traverse_grid('^v^v^v^v^v'))) == 11\n",
    "len(set(traverse_grid(day(3))))"
   ]
  },
  {
   "cell_type": "code",
   "execution_count": 9,
   "metadata": {},
   "outputs": [],
   "source": [
    "# Note: the part two solution works for part one\n",
    "assert len(set(traverse_grid(day(3), 1))) == 2572"
   ]
  },
  {
   "cell_type": "markdown",
   "metadata": {},
   "source": [
    "## [Day 4](https://adventofcode.com/2015/day/4) The Ideal Stocking Stuffer\n",
    "\n",
    "We're looking for a MD5 hash whose hexadecimal representation starts with a fixed pattern."
   ]
  },
  {
   "cell_type": "code",
   "execution_count": 10,
   "metadata": {},
   "outputs": [
    {
     "data": {
      "text/plain": [
       "346386"
      ]
     },
     "execution_count": 10,
     "metadata": {},
     "output_type": "execute_result"
    }
   ],
   "source": [
    "import hashlib\n",
    "\n",
    "day5 = 'iwrupvqb'\n",
    "\n",
    "assert next(n for n in its.count(1)\n",
    "            if hashlib.md5(f'abcdef{n}'.encode())\n",
    "            .hexdigest().startswith('00000')) == 609043\n",
    "\n",
    "next(n for n in its.count(1)\n",
    "     if hashlib.md5(f'{day5}{n}'.encode())\n",
    "     .hexdigest().startswith('00000'))"
   ]
  },
  {
   "cell_type": "code",
   "execution_count": 11,
   "metadata": {},
   "outputs": [
    {
     "data": {
      "text/plain": [
       "9958218"
      ]
     },
     "execution_count": 11,
     "metadata": {},
     "output_type": "execute_result"
    }
   ],
   "source": [
    "# Part 2 asks for a hexdigest starting with 6 zeros\n",
    "next(n for n in its.count(1)\n",
    "     if hashlib.md5(f'{day5}{n}'.encode())\n",
    "     .hexdigest().startswith('000000'))"
   ]
  },
  {
   "cell_type": "markdown",
   "metadata": {},
   "source": [
    "## [Day 5](https://adventofcode.com/2015/day/5) Doesn't He Have Intern-Elves For This?\n",
    "\n",
    "We have to categorise strings as \"naughty\" or \"nice\", according to some rules."
   ]
  },
  {
   "cell_type": "code",
   "execution_count": 12,
   "metadata": {},
   "outputs": [
    {
     "data": {
      "text/plain": [
       "238"
      ]
     },
     "execution_count": 12,
     "metadata": {},
     "output_type": "execute_result"
    }
   ],
   "source": [
    "import string\n",
    "vowels = set('aeiou')\n",
    "XX = {x+x for x in string.ascii_lowercase}\n",
    "\n",
    "\n",
    "def nice(s, must_have=XX, must_not_have={'ab', 'cd', 'pq', 'xy'}):\n",
    "    'Return `True` iff x is \"nice\"'\n",
    "    return (sum(1 for x in s if x in vowels) >= 3 and\n",
    "            any(x in s for x in must_have) and\n",
    "            not any(x in s for x in must_not_have))\n",
    "\n",
    "assert nice('ugknbfddgicrmopn')\n",
    "assert nice('aaa')\n",
    "assert not nice('jchzalrnumimnmhp') or nice('haegwjzuvuyypxyu') or nice('dvszwmarrgswjxmb')\n",
    "sum(map(nice, day(5).splitlines()))"
   ]
  },
  {
   "cell_type": "markdown",
   "metadata": {},
   "source": [
    "Part two changes the rules."
   ]
  },
  {
   "cell_type": "code",
   "execution_count": 13,
   "metadata": {},
   "outputs": [
    {
     "data": {
      "text/plain": [
       "69"
      ]
     },
     "execution_count": 13,
     "metadata": {},
     "output_type": "execute_result"
    }
   ],
   "source": [
    "def repeated_pair(s):\n",
    "    'Return `True` iff s contains the same adjacent pair in 2 non-overlapping locations'\n",
    "    N = len(s)\n",
    "    return any(s[i:i+2] == s[j:j+2]\n",
    "               for i,j in its.combinations(range(N-1), 2) if j - i >= 2)\n",
    "\n",
    "def separated_repeat(s):\n",
    "    'Return `True` iff s contains a letter which repeats separated by exactly one letter'\n",
    "    return any(s[i] == s[i+2] for i in range(len(s)-2))\n",
    "\n",
    "def nice2(s):\n",
    "    return repeated_pair(s) and separated_repeat(s)\n",
    "\n",
    "assert nice2('qjhvhtzxzqqjkmpb')\n",
    "assert nice2('xxyxx')\n",
    "assert not nice2('uurcxstgmygtbstg')\n",
    "assert not nice2('ieodomkazucvgmuy')\n",
    "sum(map(nice2, day(5).splitlines()))"
   ]
  },
  {
   "cell_type": "markdown",
   "metadata": {},
   "source": [
    "## [Day 6](https://adventofcode.com/2015/day/6) Probably a Fire Hazard\n",
    "\n",
    "We have been given instructions to toggle lights arranged in a 1000 x 1000 grid. The instructions are as shown: "
   ]
  },
  {
   "cell_type": "code",
   "execution_count": 14,
   "metadata": {},
   "outputs": [
    {
     "name": "stdout",
     "output_type": "stream",
     "text": [
      "toggle 461,550 through 564,900\n",
      "turn off 370,39 through 425,839\n",
      "turn off 464,858 through 833,915\n",
      "turn off 812,389 through 865,874\n",
      "turn on 599,989 through 806,993\n"
     ]
    }
   ],
   "source": [
    "!head -n 5 input/6"
   ]
  },
  {
   "cell_type": "code",
   "execution_count": 15,
   "metadata": {},
   "outputs": [
    {
     "data": {
      "text/plain": [
       "543903"
      ]
     },
     "execution_count": 15,
     "metadata": {},
     "output_type": "execute_result"
    }
   ],
   "source": [
    "def toggle_lights(instructions, W=1000, H=1000):\n",
    "    grid = {p: 0 for p in its.product(range(W), range(H))}\n",
    "    def     on(p): grid[p] = 1\n",
    "    def    off(p): grid[p] = 0\n",
    "    def toggle(p): grid[p] = not grid[p]\n",
    "\n",
    "    for op in instructions:\n",
    "        t,l,b,r = ints(op)\n",
    "        if   'toggle' in op: fn = toggle\n",
    "        elif 'on'     in op: fn = on\n",
    "        else               : fn = off\n",
    "        for p in its.product(range(t, b+1), range(l, r+1)):\n",
    "            fn(p)\n",
    "    return grid\n",
    "\n",
    "sum(toggle_lights(day(6).splitlines()).values())"
   ]
  },
  {
   "cell_type": "markdown",
   "metadata": {},
   "source": [
    "Part two provides a second interpretation for the toggle, on, off operations. I rewrote toggle_lights to take these functions as a parameter."
   ]
  },
  {
   "cell_type": "code",
   "execution_count": 16,
   "metadata": {},
   "outputs": [
    {
     "data": {
      "text/plain": [
       "14687245"
      ]
     },
     "execution_count": 16,
     "metadata": {},
     "output_type": "execute_result"
    }
   ],
   "source": [
    "def toggle_lights(instructions, fns, W=1000, H=1000):\n",
    "    grid = {p: 0 for p in its.product(range(W), range(H))}\n",
    "    for op in instructions:\n",
    "        t,l,b,r = ints(op)\n",
    "        fn = fns[next(s for s in ('on', 'off', 'toggle') \n",
    "                      if s in op)]\n",
    "        for p in its.product(range(t, b+1), range(l, r+1)):\n",
    "            fn(grid, p)\n",
    "    return grid\n",
    "\n",
    "def on(grid, p): grid[p] += 1\n",
    "def off(grid, p): grid[p] = max(0, grid[p]-1)\n",
    "def toggle(grid, p): grid[p] += 2\n",
    "\n",
    "sum(toggle_lights(day(6).splitlines(), {'on':on, 'off':off, 'toggle':toggle}).values())"
   ]
  },
  {
   "cell_type": "markdown",
   "metadata": {},
   "source": [
    "The solution for part two can also be used for part one."
   ]
  },
  {
   "cell_type": "code",
   "execution_count": 17,
   "metadata": {},
   "outputs": [
    {
     "data": {
      "text/plain": [
       "543903"
      ]
     },
     "execution_count": 17,
     "metadata": {},
     "output_type": "execute_result"
    }
   ],
   "source": [
    "def on(grid, p): grid[p] = 1\n",
    "def off(grid, p): grid[p] = 0\n",
    "def toggle(grid, p): grid[p] = not grid[p]\n",
    "\n",
    "sum(toggle_lights(day(6).splitlines(), {'on':on, 'off':off, 'toggle':toggle}).values())"
   ]
  },
  {
   "cell_type": "markdown",
   "metadata": {},
   "source": [
    "## [Day 7](https://adventofcode.com/2015/day/7) Some Assembly Required\n",
    "\n",
    "We're given the connections to build an electical circuit:\n",
    "\n",
    "> Each wire has an identifier (some lowercase letters) and can carry a 16-bit signal (a number from 0 to 65535). A signal is provided to each wire by a gate, another wire, or some specific value. Each wire can only get a signal from one source, but can provide its signal to multiple destinations. A gate provides no signal until all of its inputs have a signal.\n",
    "\n",
    "We're asked to run the circuit and find the signal ultimately provided to `a`.\n",
    "\n",
    "We're given a simple circuit as an example, and told the final signals on the wires."
   ]
  },
  {
   "cell_type": "code",
   "execution_count": 18,
   "metadata": {},
   "outputs": [],
   "source": [
    "example_circuit_data = '''\\\n",
    "123 -> x\n",
    "456 -> y\n",
    "x AND y -> d\n",
    "x OR y -> e\n",
    "x LSHIFT 2 -> f\n",
    "y RSHIFT 2 -> g\n",
    "NOT x -> h\n",
    "NOT y -> i\n",
    "'''\n",
    "\n",
    "example_signals = {\n",
    "    'd':72, 'e':507 ,'f':492, 'g':114, 'h':65412,\n",
    "    'i':65079, 'x':123, 'y':456\n",
    "}"
   ]
  },
  {
   "cell_type": "markdown",
   "metadata": {},
   "source": [
    "First, let's read in the input. "
   ]
  },
  {
   "cell_type": "code",
   "execution_count": 19,
   "metadata": {},
   "outputs": [
    {
     "data": {
      "text/plain": [
       "{'x': (<function __main__.id_(x)>, 123),\n",
       " 'y': (<function __main__.id_(x)>, 456),\n",
       " 'd': (<function _operator.and_(a, b, /)>, 'x', 'y'),\n",
       " 'e': (<function _operator.or_(a, b, /)>, 'x', 'y'),\n",
       " 'f': (<function _operator.lshift(a, b, /)>, 'x', 2),\n",
       " 'g': (<function _operator.rshift(a, b, /)>, 'y', 2),\n",
       " 'h': (<function __main__.load_circuit.<locals>.load_wire.<locals>.<lambda>(v)>,\n",
       "  'x'),\n",
       " 'i': (<function __main__.load_circuit.<locals>.load_wire.<locals>.<lambda>(v)>,\n",
       "  'y')}"
      ]
     },
     "execution_count": 19,
     "metadata": {},
     "output_type": "execute_result"
    }
   ],
   "source": [
    "# Create a dict mapping from operator name to operator function\n",
    "import operator as ops\n",
    "circuit_fns = {'AND':ops.and_, 'OR':ops.or_, 'LSHIFT':ops.lshift, 'RSHIFT':ops.rshift }\n",
    "\n",
    "def load_circuit(circuit_data):\n",
    "    ''' Return dict mapping wire to the value of that wire\n",
    "    \n",
    "    Note that the \"value\" is a function and the parameters to that function\n",
    "    '''\n",
    "    def load_wire(w):\n",
    "        expr, _, wire = w.partition(' -> ')\n",
    "        terms = mapt(atom, expr.split())\n",
    "        if   len(terms) == 1: value = id_, terms[0]                # assign\n",
    "        elif len(terms) == 2: value = lambda v: 0xffff-v, terms[1] # NOT\n",
    "        else: value = circuit_fns[terms[1]], terms[0], terms[2]    # BINOP\n",
    "        return wire, value\n",
    "\n",
    "    return dict(load_wire(w) for w in circuit_data.splitlines())\n",
    "\n",
    "load_circuit(example_circuit_data)"
   ]
  },
  {
   "cell_type": "markdown",
   "metadata": {},
   "source": [
    "Now we can evaluate the circuit."
   ]
  },
  {
   "cell_type": "code",
   "execution_count": 20,
   "metadata": {},
   "outputs": [
    {
     "data": {
      "text/plain": [
       "956"
      ]
     },
     "execution_count": 20,
     "metadata": {},
     "output_type": "execute_result"
    }
   ],
   "source": [
    "example_circuit = load_circuit(example_circuit_data)\n",
    "\n",
    "def evaluate_wire(circuit, wire):\n",
    "    'Return the signal emitted by `wire` for the given `circuit`'\n",
    "    @functools.lru_cache(maxsize=None)\n",
    "    def evaluate(wire):\n",
    "        fn, *vals = circuit[wire]\n",
    "        def evaluate_(v):\n",
    "            return v if isinstance(v, int) else evaluate(v)\n",
    "        return fn(*[evaluate_(v) for v in vals])\n",
    "    return evaluate(wire)\n",
    "\n",
    "# Check the worked example\n",
    "for w, v in example_signals.items():\n",
    "    assert evaluate_wire(example_circuit, w) == v\n",
    "\n",
    "# We're asked for the final value of Wire a\n",
    "circuit = load_circuit(day(7))\n",
    "evaluate_wire(circuit, 'a')"
   ]
  },
  {
   "cell_type": "markdown",
   "metadata": {},
   "source": [
    "Part two asks us to set wire `b` to this value of wire `a`, then recalculate the signal on wire `a`."
   ]
  },
  {
   "cell_type": "code",
   "execution_count": 21,
   "metadata": {},
   "outputs": [
    {
     "data": {
      "text/plain": [
       "40149"
      ]
     },
     "execution_count": 21,
     "metadata": {},
     "output_type": "execute_result"
    }
   ],
   "source": [
    "circuit['b'] = id_, 956\n",
    "evaluate_wire(circuit, 'a')"
   ]
  },
  {
   "cell_type": "code",
   "execution_count": 22,
   "metadata": {},
   "outputs": [],
   "source": [
    "# For fun, render the circuit dependencies as a graph.\n",
    "# This takes a while and the graph is huge!\n",
    "# import graphviz"
   ]
  },
  {
   "cell_type": "code",
   "execution_count": 23,
   "metadata": {},
   "outputs": [],
   "source": [
    "def circuit_graph(circuit, **k):\n",
    "    g = graphviz.Digraph(**k)\n",
    "    for v, args in circuit.items():\n",
    "        g.node(v)\n",
    "        g.edges([(v, str(a)) for a in args[1:]])\n",
    "    return g\n",
    "\n",
    "# g = circuit_graph(load_circuit(day(7)), format=\"png\")"
   ]
  },
  {
   "cell_type": "code",
   "execution_count": 24,
   "metadata": {},
   "outputs": [],
   "source": [
    "# g.render('circuit', view=True)  "
   ]
  },
  {
   "cell_type": "markdown",
   "metadata": {},
   "source": [
    "## [Day 8](https://adventofcode.com/2015/day/8) Matchsticks\n",
    "\n",
    "We have a list of strings. The strings may contains escape sequences `\\\\`, `\\\"` and `\\xHh` (where H, h are hexadecimal characters). We are asked for the actual length of the strings minus the total length of their contents in memory.\n",
    "\n",
    "Since these are valid Python string escape sequences we can get the answer directly."
   ]
  },
  {
   "cell_type": "code",
   "execution_count": 25,
   "metadata": {},
   "outputs": [],
   "source": [
    "def surplus_length(strings):\n",
    "    return sum(len(s) - eval(f'len({s})') for s in strings.splitlines())\n",
    "\n",
    "example_8 = '''\\\n",
    "\"\"\n",
    "\"abc\"\n",
    "\"aaa\\\\\"aaa\"\n",
    "\"\\\\x27\"\n",
    "'''\n",
    "\n",
    "assert surplus_length(example_8) == 12"
   ]
  },
  {
   "cell_type": "code",
   "execution_count": 26,
   "metadata": {},
   "outputs": [
    {
     "data": {
      "text/plain": [
       "1333"
      ]
     },
     "execution_count": 26,
     "metadata": {},
     "output_type": "execute_result"
    }
   ],
   "source": [
    "surplus_length(day(8))"
   ]
  },
  {
   "cell_type": "markdown",
   "metadata": {},
   "source": [
    "Part two asks us to go the other way. For example, `\"\"` encodes as `\"\\\"\\\"\"`, an increase from `2` characters to `5`."
   ]
  },
  {
   "cell_type": "code",
   "execution_count": 27,
   "metadata": {},
   "outputs": [
    {
     "data": {
      "text/plain": [
       "2046"
      ]
     },
     "execution_count": 27,
     "metadata": {},
     "output_type": "execute_result"
    }
   ],
   "source": [
    "def excess_length(s):\n",
    "    return s.count('\\\\') + s.count('\"') + 2\n",
    "\n",
    "assert sum(map(excess_length, example_8.splitlines())) == 19\n",
    "\n",
    "sum(map(excess_length, day(8).splitlines()))"
   ]
  },
  {
   "cell_type": "markdown",
   "metadata": {},
   "source": [
    "## [Day 9](https://adventofcode.com/2015/day/9) All in a Single Night\n",
    "\n",
    "We're asked for the shortest route Santa can take to visit each location exactly once -- the shortest Hamiltonian path."
   ]
  },
  {
   "cell_type": "code",
   "execution_count": 28,
   "metadata": {},
   "outputs": [
    {
     "name": "stdout",
     "output_type": "stream",
     "text": [
      "AlphaCentauri to Snowdin = 66\n",
      "AlphaCentauri to Tambi = 28\n",
      "AlphaCentauri to Faerun = 60\n",
      "AlphaCentauri to Norrath = 34\n",
      "AlphaCentauri to Straylight = 34\n",
      "AlphaCentauri to Tristram = 3\n",
      "AlphaCentauri to Arbre = 108\n",
      "Snowdin to Tambi = 22\n",
      "Snowdin to Faerun = 12\n",
      "Snowdin to Norrath = 91\n",
      "Snowdin to Straylight = 121\n",
      "Snowdin to Tristram = 111\n",
      "Snowdin to Arbre = 71\n",
      "Tambi to Faerun = 39\n",
      "Tambi to Norrath = 113\n",
      "Tambi to Straylight = 130\n",
      "Tambi to Tristram = 35\n",
      "Tambi to Arbre = 40\n",
      "Faerun to Norrath = 63\n",
      "Faerun to Straylight = 21\n",
      "Faerun to Tristram = 57\n",
      "Faerun to Arbre = 83\n",
      "Norrath to Straylight = 9\n",
      "Norrath to Tristram = 50\n",
      "Norrath to Arbre = 60\n",
      "Straylight to Tristram = 27\n",
      "Straylight to Arbre = 81\n",
      "Tristram to Arbre = 90\n"
     ]
    }
   ],
   "source": [
    "!cat input/9"
   ]
  },
  {
   "cell_type": "markdown",
   "metadata": {},
   "source": [
    "Inspecting the data, we can see there are just 7 destinations. A brute force solution will be fine."
   ]
  },
  {
   "cell_type": "code",
   "execution_count": 29,
   "metadata": {},
   "outputs": [
    {
     "data": {
      "text/plain": [
       "141"
      ]
     },
     "execution_count": 29,
     "metadata": {},
     "output_type": "execute_result"
    }
   ],
   "source": [
    "def route_map(route_data):\n",
    "    'Load the route data into a dict mapping route => distance'\n",
    "    routes ={(w[0], w[2]): int(w[-1]) \n",
    "            for w in map(str.split, route_data.splitlines())}\n",
    "    # Add the reverse routes\n",
    "    return {**routes, **{(dst, src):d for (src, dst), d in routes.items()}}\n",
    "\n",
    "def route_len(all_routes, route):\n",
    "    return sum(all_routes[p] for p in pairwise(route))\n",
    "\n",
    "def shortest_path(route_data, min_fn=min):\n",
    "    routes = route_map(route_data)\n",
    "    cities = {city for city, _ in routes}\n",
    "    return min_fn(route_len(routes, route) \n",
    "                  for route in its.permutations(cities, len(cities)))\n",
    "\n",
    "assert shortest_path('''\\\n",
    "London to Dublin = 464\n",
    "London to Belfast = 518\n",
    "Dublin to Belfast = 141\n",
    "''') == 605\n",
    "\n",
    "shortest_path(day(9))"
   ]
  },
  {
   "cell_type": "markdown",
   "metadata": {},
   "source": [
    "Part two asks for the longest path. I edited the solution to part one to parameterise `min_fn`."
   ]
  },
  {
   "cell_type": "code",
   "execution_count": 30,
   "metadata": {},
   "outputs": [
    {
     "data": {
      "text/plain": [
       "736"
      ]
     },
     "execution_count": 30,
     "metadata": {},
     "output_type": "execute_result"
    }
   ],
   "source": [
    "shortest_path(day(9), max)"
   ]
  },
  {
   "cell_type": "markdown",
   "metadata": {},
   "source": [
    "## [Day 10](https://adventofcode.com/2015/day/10) Elves Look, Elves Say\n",
    "\n",
    "Part one asks for the 40th look-say number after a supplied value."
   ]
  },
  {
   "cell_type": "code",
   "execution_count": 31,
   "metadata": {},
   "outputs": [
    {
     "data": {
      "text/plain": [
       "['1', ['1', '1'], ['2', '1'], ['1', '2', '1', '1']]"
      ]
     },
     "execution_count": 31,
     "metadata": {},
     "output_type": "execute_result"
    }
   ],
   "source": [
    "input10 = '3113322113'\n",
    "\n",
    "def look_say(seed):\n",
    "    while True:\n",
    "        yield seed\n",
    "        seed = list(flatten([str(len(list(g))), v] for v, g in its.groupby(seed)))\n",
    "\n",
    "xs = look_say('1')\n",
    "take(xs, 4)"
   ]
  },
  {
   "cell_type": "code",
   "execution_count": 32,
   "metadata": {},
   "outputs": [
    {
     "data": {
      "text/plain": [
       "329356"
      ]
     },
     "execution_count": 32,
     "metadata": {},
     "output_type": "execute_result"
    }
   ],
   "source": [
    "len(nth(look_say(input10), 40))"
   ]
  },
  {
   "cell_type": "code",
   "execution_count": 33,
   "metadata": {},
   "outputs": [
    {
     "data": {
      "text/plain": [
       "4666278"
      ]
     },
     "execution_count": 33,
     "metadata": {},
     "output_type": "execute_result"
    }
   ],
   "source": [
    "len(nth(look_say(input10), 50))"
   ]
  },
  {
   "cell_type": "markdown",
   "metadata": {},
   "source": [
    "## [Day 11](https://adventofcode.com/2015/day/11) Corporate Policy\n",
    "\n",
    "Generate passwords sequentially, matching the security elf's policies."
   ]
  },
  {
   "cell_type": "code",
   "execution_count": 34,
   "metadata": {},
   "outputs": [],
   "source": [
    "alphabet = string.ascii_lowercase\n",
    "input_11 = 'hxbxwxba'\n",
    "\n",
    "def straight(xs, n=3):\n",
    "    'Return `True` if xs has an increasing straight of length n'\n",
    "    return any(xs[i:i+3] in alphabet for i in range(len(xs)-n))\n",
    "\n",
    "def allowed(xs, prohibited=\"iol\"):\n",
    "    return not any(x in prohibited for x in xs)\n",
    "\n",
    "def diffpairs(xs):\n",
    "    return len({p for p in pairwise(xs) if p[0]==p[1]}) > 1\n",
    "\n",
    "def good_password(pword, *rules):\n",
    "    return all(rule(pword) for rule in rules)\n",
    "\n",
    "rules = [straight, allowed, diffpairs]\n",
    "\n",
    "assert not good_password('hijklmmn', *rules)\n",
    "assert not good_password('abbceffg', *rules)\n",
    "assert not good_password('abbcegjk', *rules)\n",
    "assert good_password('abcdffaa', *rules)"
   ]
  },
  {
   "cell_type": "code",
   "execution_count": 35,
   "metadata": {},
   "outputs": [
    {
     "data": {
      "text/plain": [
       "'hxbxxyzz'"
      ]
     },
     "execution_count": 35,
     "metadata": {},
     "output_type": "execute_result"
    }
   ],
   "source": [
    "def next_permutation(xs, next_elem, first_elem):\n",
    "    '''Return the next permutation of the string `xs`\n",
    "    \n",
    "    - next_elem - a dict mapping chars to the next char\n",
    "    - first_elem - the first char\n",
    "    '''\n",
    "    xs = list(xs)\n",
    "    for i in range(len(xs)-1, -1, -1):\n",
    "        xs[i] = next_elem.get(xs[i], first_elem)\n",
    "        if xs[i] != first_elem:\n",
    "            return cat(xs)\n",
    "\n",
    "def good_passwords(pword, *rules):\n",
    "    'Generate a sequence of good passwords, starting from the supplied password'\n",
    "    next_elem = dict(zip(alphabet, alphabet[1:]))\n",
    "    first_elem = alphabet[0]\n",
    "    while True:\n",
    "        pword = next_permutation(pword, next_elem, first_elem)\n",
    "        if good_password(pword, *rules):\n",
    "            yield pword\n",
    "\n",
    "# Check the examples supplied in the question\n",
    "assert next(good_passwords('abcdefgh', *rules)) == 'abcdffaa'\n",
    "assert next(good_passwords('ghijklmn', *rules)) == 'ghjaabcc'\n",
    "\n",
    "next(good_passwords(input_11, *rules))"
   ]
  },
  {
   "cell_type": "markdown",
   "metadata": {},
   "source": [
    "Part two asks for the permitted password."
   ]
  },
  {
   "cell_type": "code",
   "execution_count": 36,
   "metadata": {},
   "outputs": [
    {
     "data": {
      "text/plain": [
       "'hxcaabcc'"
      ]
     },
     "execution_count": 36,
     "metadata": {},
     "output_type": "execute_result"
    }
   ],
   "source": [
    "nth(good_passwords(input_11, *rules), 1)"
   ]
  },
  {
   "cell_type": "markdown",
   "metadata": {},
   "source": [
    "## [Day 12](https://adventofcode.com/2015/day/12) JSAbacusFramework.io\n",
    "\n",
    "The first part of the puzzle asks us to sum up all numbers in a JSON document. Conveniently, there are no numbers embedded in strings, and we can simply match all numeric sequences in the document."
   ]
  },
  {
   "cell_type": "code",
   "execution_count": 37,
   "metadata": {},
   "outputs": [
    {
     "data": {
      "text/plain": [
       "111754"
      ]
     },
     "execution_count": 37,
     "metadata": {},
     "output_type": "execute_result"
    }
   ],
   "source": [
    "sum(ints(day(12)))"
   ]
  },
  {
   "cell_type": "markdown",
   "metadata": {},
   "source": [
    "For Part Two, we're asked:\n",
    "\n",
    "> Ignore any object (and all of its children) which has any property with the value \"red\". Do this only for objects ({...}), not arrays ([...])."
   ]
  },
  {
   "cell_type": "code",
   "execution_count": 38,
   "metadata": {},
   "outputs": [],
   "source": [
    "def sum_non_red_numbers(o):\n",
    "    if isinstance(o, int): \n",
    "        return o\n",
    "    elif isinstance(o, str):\n",
    "        return 0\n",
    "    elif isinstance(o, list):\n",
    "        return sum(sum_non_red_numbers(c) for c in o)\n",
    "    elif 'red' in o.values():\n",
    "        return 0\n",
    "    else:\n",
    "        return sum(sum_non_red_numbers(v) for v in o.values())\n",
    "\n",
    "# Check worked examples\n",
    "assert sum_non_red_numbers(json.loads('[1,2,3]')) == 6\n",
    "assert sum_non_red_numbers(json.loads('[1,{\"c\":\"red\",\"b\":2},3]')) == 4\n",
    "assert sum_non_red_numbers(json.loads('{\"d\":\"red\",\"e\":[1,2,3,4],\"f\":5}')) == 0\n",
    "assert sum_non_red_numbers(json.loads('[1,\"red\",5]')) == 6"
   ]
  },
  {
   "cell_type": "code",
   "execution_count": 39,
   "metadata": {},
   "outputs": [
    {
     "data": {
      "text/plain": [
       "65402"
      ]
     },
     "execution_count": 39,
     "metadata": {},
     "output_type": "execute_result"
    }
   ],
   "source": [
    "sum_non_red_numbers(json.loads(day(12)))"
   ]
  },
  {
   "cell_type": "markdown",
   "metadata": {},
   "source": [
    "## [Day 13](https://adventofcode.com/2015/day/13) Knights of the Dinner Table\n",
    "\n",
    "We're asked to arrange people around a table to maximise happiness. A person's happiness is determined by who they're sat next to. "
   ]
  },
  {
   "cell_type": "code",
   "execution_count": 40,
   "metadata": {},
   "outputs": [],
   "source": [
    "example_13 = '''\\\n",
    "Alice would gain 54 happiness units by sitting next to Bob.\n",
    "Alice would lose 79 happiness units by sitting next to Carol.\n",
    "Alice would lose 2 happiness units by sitting next to David.\n",
    "Bob would gain 83 happiness units by sitting next to Alice.\n",
    "Bob would lose 7 happiness units by sitting next to Carol.\n",
    "Bob would lose 63 happiness units by sitting next to David.\n",
    "Carol would lose 62 happiness units by sitting next to Alice.\n",
    "Carol would gain 60 happiness units by sitting next to Bob.\n",
    "Carol would gain 55 happiness units by sitting next to David.\n",
    "David would gain 46 happiness units by sitting next to Alice.\n",
    "David would lose 7 happiness units by sitting next to Bob.\n",
    "David would gain 41 happiness units by sitting next to Carol.\n",
    "'''"
   ]
  },
  {
   "cell_type": "markdown",
   "metadata": {},
   "source": [
    "First, let's get the map from pair to happiness."
   ]
  },
  {
   "cell_type": "code",
   "execution_count": 41,
   "metadata": {},
   "outputs": [
    {
     "data": {
      "text/plain": [
       "{('Alice', 'Bob'): 54,\n",
       " ('Alice', 'Carol'): -79,\n",
       " ('Alice', 'David'): -2,\n",
       " ('Bob', 'Alice'): 83,\n",
       " ('Bob', 'Carol'): -7,\n",
       " ('Bob', 'David'): -63,\n",
       " ('Carol', 'Alice'): -62,\n",
       " ('Carol', 'Bob'): 60,\n",
       " ('Carol', 'David'): 55,\n",
       " ('David', 'Alice'): 46,\n",
       " ('David', 'Bob'): -7,\n",
       " ('David', 'Carol'): 41}"
      ]
     },
     "execution_count": 41,
     "metadata": {},
     "output_type": "execute_result"
    }
   ],
   "source": [
    "def pairs_happiness(happiness_data):\n",
    "    return {(w[0], w[-1].strip('.')): \n",
    "             int(w[3]) * (1 if w[2]=='gain' else -1)\n",
    "        for w in map(str.split, happiness_data.splitlines())}\n",
    "\n",
    "pairs_happiness(example_13)"
   ]
  },
  {
   "cell_type": "code",
   "execution_count": 42,
   "metadata": {},
   "outputs": [
    {
     "data": {
      "text/plain": [
       "709"
      ]
     },
     "execution_count": 42,
     "metadata": {},
     "output_type": "execute_result"
    }
   ],
   "source": [
    "def table_happiness(seating_plan, pair_scores):\n",
    "    N = len(seating_plan)\n",
    "    return sum(pair_scores[(seating_plan[i      ], seating_plan[(i+1)%N])] +\n",
    "               pair_scores[(seating_plan[(i+1)%N], seating_plan[i      ])]\n",
    "               for i in range(N))\n",
    "\n",
    "def best_plan(happiness_data):\n",
    "    scores = pairs_happiness(happiness_data)\n",
    "    people = {p for p, q in scores}\n",
    "    return max(table_happiness(p, scores) \n",
    "               for p in its.permutations(people, len(people)))\n",
    "\n",
    "assert best_plan(example_13) == 330\n",
    "best_plan(day(13))"
   ]
  },
  {
   "cell_type": "markdown",
   "metadata": {},
   "source": [
    "For part two, the host sits with the party -- having a score of 0 in any pair."
   ]
  },
  {
   "cell_type": "code",
   "execution_count": 43,
   "metadata": {},
   "outputs": [
    {
     "data": {
      "text/plain": [
       "668"
      ]
     },
     "execution_count": 43,
     "metadata": {},
     "output_type": "execute_result"
    }
   ],
   "source": [
    "def best_plan_with_host(happiness_data):\n",
    "    scores = pairs_happiness(happiness_data)\n",
    "    people = {p for p, q in scores}\n",
    "    scores.update({(p, 'host'): 0 for p in people})\n",
    "    scores.update({('host', p): 0 for p in people})\n",
    "    people.add('host')\n",
    "    return max(table_happiness(p, scores) \n",
    "               for p in its.permutations(people, len(people)))\n",
    "\n",
    "best_plan_with_host(day(13))"
   ]
  },
  {
   "cell_type": "markdown",
   "metadata": {},
   "source": [
    "## [Day 14](https://adventofcode.com/2015/day/14) Reindeer Olympics\n",
    "\n",
    "Part one asks us to calculate which reindeer is in the lead after a given time."
   ]
  },
  {
   "cell_type": "code",
   "execution_count": 44,
   "metadata": {},
   "outputs": [
    {
     "data": {
      "text/plain": [
       "2660"
      ]
     },
     "execution_count": 44,
     "metadata": {},
     "output_type": "execute_result"
    }
   ],
   "source": [
    "day_14='''\\\n",
    "Vixen can fly 19 km/s for 7 seconds, but then must rest for 124 seconds.\n",
    "Rudolph can fly 3 km/s for 15 seconds, but then must rest for 28 seconds.\n",
    "Donner can fly 19 km/s for 9 seconds, but then must rest for 164 seconds.\n",
    "Blitzen can fly 19 km/s for 9 seconds, but then must rest for 158 seconds.\n",
    "Comet can fly 13 km/s for 7 seconds, but then must rest for 82 seconds.\n",
    "Cupid can fly 25 km/s for 6 seconds, but then must rest for 145 seconds.\n",
    "Dasher can fly 14 km/s for 3 seconds, but then must rest for 38 seconds.\n",
    "Dancer can fly 3 km/s for 16 seconds, but then must rest for 37 seconds.\n",
    "Prancer can fly 25 km/s for 6 seconds, but then must rest for 143 seconds.\n",
    "'''\n",
    "\n",
    "example_14='''\\\n",
    "Comet can fly 14 km/s for 10 seconds, but then must rest for 127 seconds.\n",
    "Dancer can fly 16 km/s for 11 seconds, but then must rest for 162 seconds.\n",
    "'''\n",
    "\n",
    "def distance(reindeer, T):\n",
    "    'How far has the reindeer travelled after time T?'\n",
    "    velocity, fly_t, rest_t = reindeer\n",
    "    reps, rem = divmod(T, (fly_t + rest_t))\n",
    "    return velocity * (reps * fly_t + min(rem, fly_t))\n",
    "\n",
    "assert distance((14, 10, 127), 1000) == 1120\n",
    "assert distance((16, 11, 162), 1000) == 1056\n",
    "\n",
    "def winning_distance(reindeer_data, T):\n",
    "    return max(distance(ints(s), T) for s in reindeer_data.splitlines())\n",
    "\n",
    "winning_distance(day_14, 2503)"
   ]
  },
  {
   "cell_type": "markdown",
   "metadata": {},
   "source": [
    "Part two operates a different scoring system. At the end of each second the reindeer which has travelled furthest scores a point. "
   ]
  },
  {
   "cell_type": "code",
   "execution_count": 45,
   "metadata": {},
   "outputs": [
    {
     "data": {
      "text/plain": [
       "689"
      ]
     },
     "execution_count": 45,
     "metadata": {},
     "output_type": "execute_result"
    }
   ],
   "source": [
    "def winning_score(reindeer_data, T):\n",
    "    reindeer = [ints(s) for s in reindeer_data.splitlines()]\n",
    "    scores = [0] * len(reindeer)\n",
    "    for t in range(1, 1+T):\n",
    "        _, i = max((distance(r, t), i) for i, r in enumerate(reindeer))\n",
    "        scores[i] += 1\n",
    "    return max(scores)\n",
    "        \n",
    "winning_score(example_14, 1000)"
   ]
  },
  {
   "cell_type": "code",
   "execution_count": 46,
   "metadata": {},
   "outputs": [
    {
     "data": {
      "text/plain": [
       "1256"
      ]
     },
     "execution_count": 46,
     "metadata": {},
     "output_type": "execute_result"
    }
   ],
   "source": [
    "winning_score(day_14, 2503)"
   ]
  },
  {
   "cell_type": "markdown",
   "metadata": {},
   "source": [
    "## [Day 15](https://adventofcode.com/2015/day/15) Science for Hungry People\n",
    "\n",
    "The question asks us to formulate a recipe using exactly 100 teaspoons of the supplied ingredients, maximising a score calculated from these ingredients.\n"
   ]
  },
  {
   "cell_type": "code",
   "execution_count": 47,
   "metadata": {},
   "outputs": [
    {
     "data": {
      "text/plain": [
       "[(1, 1, 3), (1, 2, 2), (1, 3, 1), (2, 1, 2), (2, 2, 1), (3, 1, 1)]"
      ]
     },
     "execution_count": 47,
     "metadata": {},
     "output_type": "execute_result"
    }
   ],
   "source": [
    "input_15 = '''\\\n",
    "Frosting: capacity 4, durability -2, flavor 0, texture 0, calories 5\n",
    "Candy: capacity 0, durability 5, flavor -1, texture 0, calories 8\n",
    "Butterscotch: capacity -1, durability 0, flavor 5, texture 0, calories 6\n",
    "Sugar: capacity 0, durability 0, flavor -2, texture 2, calories 1\n",
    "'''\n",
    "example_15 = '''\\\n",
    "Butterscotch: capacity -1, durability -2, flavor 6, texture 3, calories 8\n",
    "Cinnamon: capacity 2, durability 3, flavor -2, texture -1, calories 3\n",
    "'''\n",
    "\n",
    "def recipe_score(measures, ingredients):\n",
    "    N = len(ingredients[0])\n",
    "    product = 1\n",
    "    for i in range(N-1): # Note: Calories _not_ included in score\n",
    "        score = sum(measure*ingredient[i] \n",
    "            for measure, ingredient in zip(measures, ingredients))\n",
    "        product *= max(score, 0)\n",
    "    return product\n",
    "\n",
    "# Check the worked example\n",
    "assert recipe_score([44,56], [ints(s) for s in example_15.splitlines()]) == 62842880\n",
    "\n",
    "def partition(total, n):\n",
    "    'Yield tuples of `n` numbers which sum to `total`'\n",
    "    if n > total: \n",
    "        return\n",
    "    elif n == 1:\n",
    "        yield (total,)\n",
    "    else:\n",
    "        for i in range(1, total):\n",
    "            yield from ((i, *r) for r in partition(total-i, n-1))\n",
    "\n",
    "list(partition(5,3))"
   ]
  },
  {
   "cell_type": "markdown",
   "metadata": {},
   "source": [
    "That all looks reasonable. The question asks us to maximise the recipe score using measures of the supplied ingredients summing to 100."
   ]
  },
  {
   "cell_type": "code",
   "execution_count": 48,
   "metadata": {},
   "outputs": [
    {
     "data": {
      "text/plain": [
       "18965440"
      ]
     },
     "execution_count": 48,
     "metadata": {},
     "output_type": "execute_result"
    }
   ],
   "source": [
    "def best_recipe(ingredients_data, total=100):\n",
    "    ingredients = tuple(ints(s) for s in ingredients_data.splitlines())\n",
    "    return max(recipe_score(measures, ingredients)\n",
    "        for measures in partition(total, len(ingredients)))\n",
    "\n",
    "assert best_recipe(example_15) == 62842880\n",
    "best_recipe(input_15)"
   ]
  },
  {
   "cell_type": "markdown",
   "metadata": {},
   "source": [
    "For part two, we're asked for the highest scoring cookie with a calorie count of 500."
   ]
  },
  {
   "cell_type": "code",
   "execution_count": 49,
   "metadata": {},
   "outputs": [
    {
     "data": {
      "text/plain": [
       "15862900"
      ]
     },
     "execution_count": 49,
     "metadata": {},
     "output_type": "execute_result"
    }
   ],
   "source": [
    "def calorie_count(measures, ingredients):\n",
    "    return sum(measure * ingredient[-1] \n",
    "               for measure, ingredient in zip(measures, ingredients))\n",
    "\n",
    "def best_calorie_controlled_recipe(ingredients_data, total=100, cals=500):\n",
    "    ingredients = tuple(ints(s) for s in ingredients_data.splitlines())\n",
    "    return max(recipe_score(measures, ingredients)\n",
    "               for measures in partition(total, len(ingredients))\n",
    "               if calorie_count(measures, ingredients) == 500)\n",
    "\n",
    "assert best_calorie_controlled_recipe(example_15) == 57600000\n",
    "best_calorie_controlled_recipe(input_15)"
   ]
  },
  {
   "cell_type": "markdown",
   "metadata": {},
   "source": [
    "## [Day 16](https://adventofcode.com/2015/day/16) Aunt Sue\n",
    "We have to identify the \"Sue\" on the list which matches a supplied collections of characteristics.\n"
   ]
  },
  {
   "cell_type": "code",
   "execution_count": 50,
   "metadata": {},
   "outputs": [],
   "source": [
    "match_16 = {\n",
    "'children': 3,\n",
    "'cats': 7,\n",
    "'samoyeds': 2,\n",
    "'pomeranians': 3,\n",
    "'akitas': 0,\n",
    "'vizslas': 0,\n",
    "'goldfish': 5,\n",
    "'trees': 3,\n",
    "'cars': 2,\n",
    "'perfumes': 1    \n",
    "}"
   ]
  },
  {
   "cell_type": "code",
   "execution_count": 51,
   "metadata": {},
   "outputs": [
    {
     "name": "stdout",
     "output_type": "stream",
     "text": [
      "Sue 1: cars: 9, akitas: 3, goldfish: 0\n",
      "Sue 2: akitas: 9, children: 3, samoyeds: 9\n",
      "Sue 3: trees: 6, cars: 6, children: 4\n",
      "Sue 4: trees: 4, vizslas: 4, goldfish: 9\n",
      "Sue 5: akitas: 9, vizslas: 7, cars: 5\n",
      "Sue 6: vizslas: 6, goldfish: 6, akitas: 3\n",
      "Sue 7: pomeranians: 5, samoyeds: 0, perfumes: 10\n",
      "Sue 8: cars: 10, pomeranians: 7, goldfish: 8\n",
      "Sue 9: trees: 2, vizslas: 7, samoyeds: 6\n",
      "Sue 10: perfumes: 5, pomeranians: 4, children: 9\n"
     ]
    }
   ],
   "source": [
    "!head input/16"
   ]
  },
  {
   "cell_type": "code",
   "execution_count": 52,
   "metadata": {},
   "outputs": [
    {
     "data": {
      "text/plain": [
       "[373]"
      ]
     },
     "execution_count": 52,
     "metadata": {},
     "output_type": "execute_result"
    }
   ],
   "source": [
    "def parse_sue(line):\n",
    "    toks = [atom(w.rstrip(':,')) for w in line.split()]\n",
    "    return toks[1], {toks[i]:toks[i+1] for i in range(2, len(toks), 2)}\n",
    "\n",
    "# Let's find the Sues who share the same features as match_16\n",
    "[i for i, features in map(parse_sue, day(16).splitlines())\n",
    "if all(match_16[k] == v for k, v in features.items())]"
   ]
  },
  {
   "cell_type": "markdown",
   "metadata": {},
   "source": [
    "For part two, the interpretation of `match_16` has changed."
   ]
  },
  {
   "cell_type": "code",
   "execution_count": 53,
   "metadata": {},
   "outputs": [
    {
     "data": {
      "text/plain": [
       "[260]"
      ]
     },
     "execution_count": 53,
     "metadata": {},
     "output_type": "execute_result"
    }
   ],
   "source": [
    "def compatible(features, match):\n",
    "    for f, v in features.items():\n",
    "        if f in ('cats', 'trees'):\n",
    "            if match[f] >= v: return False\n",
    "        elif f in ('pomeranians', 'goldfish'):\n",
    "            if match[f] <= v: return False\n",
    "        else:\n",
    "            if match[f] != v: return False\n",
    "    return True\n",
    "        \n",
    "[i for i, features in map(parse_sue, day(16).splitlines())\n",
    "if compatible(features, match_16)]"
   ]
  },
  {
   "cell_type": "markdown",
   "metadata": {},
   "source": [
    "## [Day 17](https://adventofcode.com/2015/day/17) No Such Thing as Too Much\n",
    "\n",
    "We are asked to combine containers so their total volume is a given number."
   ]
  },
  {
   "cell_type": "code",
   "execution_count": 54,
   "metadata": {},
   "outputs": [
    {
     "data": {
      "text/plain": [
       "1638"
      ]
     },
     "execution_count": 54,
     "metadata": {},
     "output_type": "execute_result"
    }
   ],
   "source": [
    "example_17 = [20,15,10,5,5]\n",
    "containers_17 = [43,3,4,10,21,44,4,6,47,41,34,17,17,44,36,31,46,9,27,38]\n",
    "\n",
    "def combos(containers, total):\n",
    "    N = len(containers)\n",
    "    return sum(1 for p in its.product([0,1], repeat=N) \n",
    "               if sum(map(operator.mul, p, containers)) == total)\n",
    "\n",
    "assert combos(example_17, 25) == 4\n",
    "combos(containers_17, 150)"
   ]
  },
  {
   "cell_type": "markdown",
   "metadata": {},
   "source": [
    "For Part Two, we want to use the minimum number of containers which give the required total. "
   ]
  },
  {
   "cell_type": "code",
   "execution_count": 55,
   "metadata": {},
   "outputs": [],
   "source": [
    "def container_counts(containers, total):\n",
    "    N = len(containers)\n",
    "    return collections.Counter(sum(p) for p in its.product([0,1], repeat=N) \n",
    "                   if sum(map(operator.mul, p, containers)) == total)\n",
    "\n",
    "# Worked example. Check example_17 containers give a minimum no. of\n",
    "# 2 containers, with 3 such combinations\n",
    "assert min(container_counts(example_17, 25).items()) == (2, 3)"
   ]
  },
  {
   "cell_type": "code",
   "execution_count": 56,
   "metadata": {},
   "outputs": [
    {
     "data": {
      "text/plain": [
       "(4, 17)"
      ]
     },
     "execution_count": 56,
     "metadata": {},
     "output_type": "execute_result"
    }
   ],
   "source": [
    "min(container_counts(containers_17, 150).items())"
   ]
  },
  {
   "cell_type": "markdown",
   "metadata": {},
   "source": [
    "## [Day 18](https://adventofcode.com/2015/day/18) Like a GIF For Your Yard\n",
    "This is a cellular automaton, reminiscent of [Conway's Game of Life](http://wordaligned.org/life). We are asked to evolve a grid of lights, where each light's next state is based on its current state + the number of neighbours that are on."
   ]
  },
  {
   "cell_type": "code",
   "execution_count": 57,
   "metadata": {},
   "outputs": [
    {
     "name": "stdout",
     "output_type": "stream",
     "text": [
      "......\n",
      "......\n",
      "..##..\n",
      "..##..\n",
      "......\n",
      "......\n"
     ]
    }
   ],
   "source": [
    "def update_cell(grid, p):\n",
    "    'Return the value taken by `grid` cell `p` in the next generation'\n",
    "    v = grid[p]\n",
    "    on_neighbours = sum(grid.get(n)=='#' for n in neighbours8(*p))\n",
    "    return '#' if on_neighbours==3 or v=='#' and on_neighbours==2 else '.'\n",
    "\n",
    "def evolve(grid, update_cell=update_cell):\n",
    "    while True:\n",
    "        yield grid\n",
    "        grid = {p: update_cell(grid, p) for p in grid}\n",
    "\n",
    "example_18='''\\\n",
    ".#.#.#\n",
    "...##.\n",
    "#....#\n",
    "..#...\n",
    "#.#..#\n",
    "####..\n",
    "'''\n",
    "\n",
    "def load_grid(grid_data):\n",
    "    return {(c,r):v \n",
    "            for r,line in enumerate(grid_data.splitlines()) \n",
    "            for c,v in enumerate(line)}\n",
    "\n",
    "# Check the worked example, which shows 4 lights on after 4 steps\n",
    "ex18_grid = load_grid(example_18)\n",
    "assert sum(v=='#' for v in nth(evolve(ex18_grid), 4).values()) == 4\n",
    "draw_grid(nth(evolve(ex18_grid), 4))"
   ]
  },
  {
   "cell_type": "code",
   "execution_count": 58,
   "metadata": {},
   "outputs": [
    {
     "data": {
      "text/plain": [
       "821"
      ]
     },
     "execution_count": 58,
     "metadata": {},
     "output_type": "execute_result"
    }
   ],
   "source": [
    "sum(v=='#' for v in nth(evolve(load_grid(day(18))), 100).values())"
   ]
  },
  {
   "cell_type": "markdown",
   "metadata": {},
   "source": [
    "For part two, the corners of the grid are stuck on \"on\"."
   ]
  },
  {
   "cell_type": "code",
   "execution_count": 59,
   "metadata": {},
   "outputs": [
    {
     "name": "stdout",
     "output_type": "stream",
     "text": [
      "##.###\n",
      ".##..#\n",
      ".##...\n",
      ".##...\n",
      "#.#...\n",
      "##...#\n"
     ]
    }
   ],
   "source": [
    "def is_corner(grid, p):\n",
    "    'Return True iff p is at a corner of the grid'\n",
    "    return sum(n in grid for n in neighbours4(*p)) == 2\n",
    "\n",
    "def fixed_corners_update(grid, p):\n",
    "    'A cell update function which leaves the corners lit'\n",
    "    return '#' if is_corner(grid, p) else update_cell(grid, p)\n",
    "\n",
    "def turn_corners_on(grid):\n",
    "    return {p: '#' if is_corner(grid, p) else v for p, v in grid.items()}\n",
    "\n",
    "ex18_grid = turn_corners_on(ex18_grid)\n",
    "assert sum(v=='#' for v in nth(evolve(ex18_grid, fixed_corners_update), 5).values()) == 17\n",
    "draw_grid(nth(evolve(ex18_grid, fixed_corners_update), 5))"
   ]
  },
  {
   "cell_type": "code",
   "execution_count": 60,
   "metadata": {},
   "outputs": [
    {
     "data": {
      "text/plain": [
       "886"
      ]
     },
     "execution_count": 60,
     "metadata": {},
     "output_type": "execute_result"
    }
   ],
   "source": [
    "grid18 = turn_corners_on(load_grid(day(18)))\n",
    "sum(v=='#' for v in nth(evolve(grid18, fixed_corners_update), 100).values())"
   ]
  },
  {
   "cell_type": "markdown",
   "metadata": {},
   "source": [
    "## [Day 19](https://adventofcode.com/2015/day/19): Medicine for Rudolph\n",
    "A medicine molecule (represented as a string) evolves via replacement rules. The rules and the medicine molecule look like this."
   ]
  },
  {
   "cell_type": "code",
   "execution_count": 61,
   "metadata": {},
   "outputs": [
    {
     "name": "stdout",
     "output_type": "stream",
     "text": [
      "Al => ThF\n",
      "Al => ThRnFAr\n",
      "B => BCa\n",
      "B => TiB\n",
      "B => TiRnFAr\n",
      "Ca => CaCa\n",
      "Ca => PB\n",
      "Ca => PRnFAr\n",
      "Ca => SiRnFYFAr\n",
      "Ca => SiRnMgAr\n",
      "Ca => SiTh\n",
      "F => CaF\n",
      "F => PMg\n",
      "F => SiAl\n",
      "H => CRnAlAr\n",
      "H => CRnFYFYFAr\n",
      "H => CRnFYMgAr\n",
      "H => CRnMgYFAr\n",
      "H => HCa\n",
      "H => NRnFYFAr\n",
      "H => NRnMgAr\n",
      "H => NTh\n",
      "H => OB\n",
      "H => ORnFAr\n",
      "Mg => BF\n",
      "Mg => TiMg\n",
      "N => CRnFAr\n",
      "N => HSi\n",
      "O => CRnFYFAr\n",
      "O => CRnMgAr\n",
      "O => HP\n",
      "O => NRnFAr\n",
      "O => OTi\n",
      "P => CaP\n",
      "P => PTi\n",
      "P => SiRnFAr\n",
      "Si => CaSi\n",
      "Th => ThCa\n",
      "Ti => BP\n",
      "Ti => TiTi\n",
      "e => HF\n",
      "e => NAl\n",
      "e => OMg\n",
      "\n",
      "ORnPBPMgArCaCaCaSiThCaCaSiThCaCaPBSiRnFArRnFArCaCaSiThCaCaSiThCaCaCaCaCaCaSiRnFYFArSiRnMgArCaSiRnPTiTiBFYPBFArSiRnCaSiRnTiRnFArSiAlArPTiBPTiRnCaSiAlArCaPTiTiBPMgYFArPTiRnFArSiRnCaCaFArRnCaFArCaSiRnSiRnMgArFYCaSiRnMgArCaCaSiThPRnFArPBCaSiRnMgArCaCaSiThCaSiRnTiMgArFArSiThSiThCaCaSiRnMgArCaCaSiRnFArTiBPTiRnCaSiAlArCaPTiRnFArPBPBCaCaSiThCaPBSiThPRnFArSiThCaSiThCaSiThCaPTiBSiRnFYFArCaCaPRnFArPBCaCaPBSiRnTiRnFArCaPRnFArSiRnCaCaCaSiThCaRnCaFArYCaSiRnFArBCaCaCaSiThFArPBFArCaSiRnFArRnCaCaCaFArSiRnFArTiRnPMgArF\n"
     ]
    }
   ],
   "source": [
    "!cat input/19"
   ]
  },
  {
   "cell_type": "code",
   "execution_count": 62,
   "metadata": {},
   "outputs": [
    {
     "data": {
      "text/plain": [
       "[{'HOH'},\n",
       " {'HHHH', 'HOHO', 'HOOH', 'OHOH'},\n",
       " {'HHHHO',\n",
       "  'HHHOH',\n",
       "  'HHOHH',\n",
       "  'HOHHH',\n",
       "  'HOHOO',\n",
       "  'HOOHO',\n",
       "  'HOOOH',\n",
       "  'OHHHH',\n",
       "  'OHOHO',\n",
       "  'OHOOH',\n",
       "  'OOHOH'}]"
      ]
     },
     "execution_count": 62,
     "metadata": {},
     "output_type": "execute_result"
    }
   ],
   "source": [
    "def load_molecule_and_rules(data):\n",
    "    'Parse question data, returning molecule and replacements'\n",
    "    words = [line.split() for line in data.splitlines()]\n",
    "    return words[-1][0], {(w[0], w[2]) for w in words if len(w)==3}\n",
    "\n",
    "def replacements(molecule, src, dst):\n",
    "    'Generate the results of applying src=>dst replacement to molecule'\n",
    "    i = 0\n",
    "    while i != -1:\n",
    "        i = molecule.find(src, i)\n",
    "        if i != -1:\n",
    "            yield molecule[:i] + dst + molecule[i+len(src):]\n",
    "            i += len(src)\n",
    "    \n",
    "def evolve_molecule(molecule, rules):\n",
    "    'Evolve molecule using the supplied rules'\n",
    "    molecules = set([molecule])\n",
    "    while True:\n",
    "        yield molecules\n",
    "        molecules = {\n",
    "            repl for rule in rules for molecule in molecules\n",
    "            for repl in replacements(molecule, *rule)}\n",
    "\n",
    "example_19 = '''\\\n",
    "H => HO\n",
    "H => OH\n",
    "O => HH\n",
    "\n",
    "HOH\n",
    "'''\n",
    "\n",
    "# Check the worked example\n",
    "molecules = evolve_molecule(*load_molecule_and_rules(example_19))\n",
    "take(molecules, 3)"
   ]
  },
  {
   "cell_type": "code",
   "execution_count": 63,
   "metadata": {},
   "outputs": [],
   "source": [
    "# Check the second worked example \"HOHOHO\" :-)\n",
    "_, rules = load_molecule_and_rules(example_19)\n",
    "assert len(nth(evolve_molecule('HOHOHO', rules), 1)) == 7"
   ]
  },
  {
   "cell_type": "code",
   "execution_count": 64,
   "metadata": {},
   "outputs": [
    {
     "data": {
      "text/plain": [
       "576"
      ]
     },
     "execution_count": 64,
     "metadata": {},
     "output_type": "execute_result"
    }
   ],
   "source": [
    "len(nth(evolve_molecule(*load_molecule_and_rules(day(19))), 1))"
   ]
  },
  {
   "cell_type": "markdown",
   "metadata": {},
   "source": [
    "Part two introduces molecule fabrication. We start from the electron `e` and evolve until we reach the medicine molecule. How long does it take?\n",
    "\n",
    "My initial attempt was to evolve the electron, but this didn't run quickly enough. My second idea was to reverse evolution and reduce the medicine molecule to the electron. This also took too long. My actual solution used the strategy of selecting random replacements, backing out when blocked. It looks very like there's only a single path from the input molecule to the target `\"e\"`."
   ]
  },
  {
   "cell_type": "code",
   "execution_count": 65,
   "metadata": {},
   "outputs": [
    {
     "data": {
      "text/plain": [
       "[207, 207, 207, 207, 207, 207, 207, 207, 207, 207]"
      ]
     },
     "execution_count": 65,
     "metadata": {},
     "output_type": "execute_result"
    }
   ],
   "source": [
    "example_19_part2 = '''\\\n",
    "e => H\n",
    "e => O\n",
    "H => HO\n",
    "H => OH\n",
    "O => HH\n",
    "\n",
    "HOHOHO\n",
    "'''\n",
    "\n",
    "def fabrication_time(molecule, rules, seed='e'):\n",
    "    '''How many steps to fabricate `molecule` from `seed`?\n",
    "    \n",
    "    - rules: the replacements\n",
    "    '''\n",
    "    rules = [(dst, src) for src, dst in rules] # Go backwards\n",
    "    buf = collections.deque(maxlen=20)\n",
    "    def blocked():\n",
    "        return buf and max(buf) == 0\n",
    "    \n",
    "    while True:\n",
    "        N = 0\n",
    "        mol = molecule\n",
    "        buf.clear()\n",
    "        while mol != seed and not blocked():\n",
    "            src, dst = random.choice(rules)\n",
    "            mol, delta = re.subn(src, dst, mol)\n",
    "            N += delta\n",
    "            buf.append(delta)\n",
    "        if mol == 'e':\n",
    "            yield N\n",
    "\n",
    "take(fabrication_time(*load_molecule_and_rules(day(19))), 10)"
   ]
  },
  {
   "cell_type": "markdown",
   "metadata": {},
   "source": [
    "## [Day 20](https://adventofcode.com/2015/day/20): Infinite Elves and Infinite Houses\n",
    "\n",
    "Setup:\n",
    "- an infinite street has houses numbered 1, 2, 3, ...\n",
    "- there are also an infinite number of elves\n",
    "- elf N delivers 10N presents to houses N, 2N, 3N, ...\n",
    "\n",
    "We are asked for the lowest house number getting at least 36000000 presents.\n",
    "\n",
    "We can divide by 10 for simplicity. \n",
    "\n",
    "First, try houses which are powers of 2.\n",
    "\n",
    "House `2^N` gets `1 + 2 + 4 + ... 2^N` presents, i.e. `2^(N+1) - 1`\n"
   ]
  },
  {
   "cell_type": "code",
   "execution_count": 66,
   "metadata": {},
   "outputs": [
    {
     "data": {
      "text/plain": [
       "21.779565475879124"
      ]
     },
     "execution_count": 66,
     "metadata": {},
     "output_type": "execute_result"
    }
   ],
   "source": [
    "math.log(3600000, 2)"
   ]
  },
  {
   "cell_type": "code",
   "execution_count": 67,
   "metadata": {},
   "outputs": [
    {
     "data": {
      "text/plain": [
       "(2097152, 4194303)"
      ]
     },
     "execution_count": 67,
     "metadata": {},
     "output_type": "execute_result"
    }
   ],
   "source": [
    "2**21, 2**22 - 1"
   ]
  },
  {
   "cell_type": "markdown",
   "metadata": {},
   "source": [
    "So, house `2**21` gets `41943030 - 1` presents. Are there any lower numbered houses  which get at least `36000000` presents?"
   ]
  },
  {
   "cell_type": "code",
   "execution_count": 68,
   "metadata": {},
   "outputs": [
    {
     "data": {
      "text/plain": [
       "831600"
      ]
     },
     "execution_count": 68,
     "metadata": {},
     "output_type": "execute_result"
    }
   ],
   "source": [
    "street = [0]* 2**21\n",
    "for elf in range(1, 2**21):\n",
    "    street[elf::elf] = [v + elf for v in street[elf::elf]]\n",
    "\n",
    "next(i for i, n in enumerate(street) if n*10 >= 36000000)"
   ]
  },
  {
   "cell_type": "markdown",
   "metadata": {},
   "source": [
    "For part two, each elf delivers 11 presents to a maximum of 50 homes."
   ]
  },
  {
   "cell_type": "code",
   "execution_count": 69,
   "metadata": {},
   "outputs": [
    {
     "data": {
      "text/plain": [
       "884520"
      ]
     },
     "execution_count": 69,
     "metadata": {},
     "output_type": "execute_result"
    }
   ],
   "source": [
    "street = [0]* 2**21\n",
    "deliver50 = [1]*50 + [0]*2**21\n",
    "for elf in range(1, 2**21):\n",
    "    street[elf::elf] = [v + elf*f for v,f in zip(street[elf::elf],deliver50)]\n",
    "    \n",
    "next(i for i, n in enumerate(street) if n*11 >= 36000000)"
   ]
  },
  {
   "cell_type": "markdown",
   "metadata": {},
   "source": [
    "## [Day 21](https://adventofcode.com/2015/day/21): RPG Simulator 20XX\n",
    "Player and boss take turns to fight. A participant wins when their opponent drops to 0 points."
   ]
  },
  {
   "cell_type": "code",
   "execution_count": 70,
   "metadata": {},
   "outputs": [
    {
     "data": {
      "text/plain": [
       "{'Weapons': [armor(cost=8, damage=4, armor=0),\n",
       "  armor(cost=10, damage=5, armor=0),\n",
       "  armor(cost=25, damage=6, armor=0),\n",
       "  armor(cost=40, damage=7, armor=0),\n",
       "  armor(cost=74, damage=8, armor=0)],\n",
       " 'Armor': [armor(cost=13, damage=0, armor=1),\n",
       "  armor(cost=31, damage=0, armor=2),\n",
       "  armor(cost=53, damage=0, armor=3),\n",
       "  armor(cost=75, damage=0, armor=4),\n",
       "  armor(cost=102, damage=0, armor=5)],\n",
       " 'Rings': [armor(cost=25, damage=1, armor=0),\n",
       "  armor(cost=50, damage=2, armor=0),\n",
       "  armor(cost=100, damage=3, armor=0),\n",
       "  armor(cost=20, damage=0, armor=1),\n",
       "  armor(cost=40, damage=0, armor=2),\n",
       "  armor(cost=80, damage=0, armor=3)]}"
      ]
     },
     "execution_count": 70,
     "metadata": {},
     "output_type": "execute_result"
    }
   ],
   "source": [
    "armory_manifest='''\\\n",
    "Weapons:    Cost  Damage  Armor\n",
    "Dagger        8     4       0\n",
    "Shortsword   10     5       0\n",
    "Warhammer    25     6       0\n",
    "Longsword    40     7       0\n",
    "Greataxe     74     8       0\n",
    "\n",
    "Armor:      Cost  Damage  Armor\n",
    "Leather      13     0       1\n",
    "Chainmail    31     0       2\n",
    "Splintmail   53     0       3\n",
    "Bandedmail   75     0       4\n",
    "Platemail   102     0       5\n",
    "\n",
    "Rings:      Cost  Damage  Armor\n",
    "Damage_1      25     1       0\n",
    "Damage_2      50     2       0\n",
    "Damage_3     100     3       0\n",
    "Defense_1     20     0       1\n",
    "Defense_2     40     0       2\n",
    "Defense_3     80     0       3\n",
    "'''\n",
    "\n",
    "armor = collections.namedtuple('armor', 'cost damage armor')\n",
    "\n",
    "def load_armory(data):\n",
    "    result = {}\n",
    "    for line in data.splitlines():\n",
    "        if ':' in line:\n",
    "            items = result.setdefault(line.partition(':')[0], [])\n",
    "        elif line:\n",
    "            items.append(armor(*[int(w) for w in line.split()[1:]]))\n",
    "    return result\n",
    "\n",
    "armory = load_armory(armory_manifest)\n",
    "armory"
   ]
  },
  {
   "cell_type": "code",
   "execution_count": 71,
   "metadata": {},
   "outputs": [
    {
     "name": "stdout",
     "output_type": "stream",
     "text": [
      "8 9\n",
      "6 9\n",
      "6 6\n",
      "4 6\n",
      "4 3\n",
      "2 3\n"
     ]
    },
    {
     "data": {
      "text/plain": [
       "0"
      ]
     },
     "execution_count": 71,
     "metadata": {},
     "output_type": "execute_result"
    }
   ],
   "source": [
    "participant = collections.namedtuple('participant', 'hit_points damage armor')\n",
    "\n",
    "def defeated(player):\n",
    "    return player.hit_points <= 0\n",
    "\n",
    "def battle(players, verbose=False):\n",
    "    '''Run the battle to completion, returning the index of the winner\n",
    "    \n",
    "    - players: an array of two players\n",
    "    '''\n",
    "    for i,j in its.cycle([[0,1], [1,0]]):\n",
    "        attacker, defender = players[i], players[j]\n",
    "        damage = attacker.damage - defender.armor\n",
    "        players[j] = defender._replace(hit_points=defender.hit_points-damage)\n",
    "        if defeated(players[j]):\n",
    "            return i\n",
    "        if verbose:\n",
    "            print(players[0].hit_points, players[1].hit_points)\n",
    "\n",
    "# Run the worked example\n",
    "battle([participant(8, 5, 5), participant(12, 7, 2)], verbose=True)"
   ]
  },
  {
   "cell_type": "markdown",
   "metadata": {},
   "source": [
    "That looks good. Now we need to find the minimum spend for a win, given:\n",
    "- an initial state for the boss \n",
    "- an initial number of hitpoints\n",
    "- shopping rules"
   ]
  },
  {
   "cell_type": "code",
   "execution_count": 72,
   "metadata": {},
   "outputs": [
    {
     "data": {
      "text/plain": [
       "[(participant(hit_points=100, damage=4, armor=0), 8),\n",
       " (participant(hit_points=100, damage=5, armor=0), 33),\n",
       " (participant(hit_points=100, damage=6, armor=0), 58)]"
      ]
     },
     "execution_count": 72,
     "metadata": {},
     "output_type": "execute_result"
    }
   ],
   "source": [
    "def combos(xs, n):\n",
    "    for r in range(n+1):\n",
    "        yield from its.combinations(xs, r)\n",
    "\n",
    "def players(hitpts, armory):\n",
    "    '''Generate the initial player configs\n",
    "    \n",
    "    - hitpoints: the fixed initial hitpoints\n",
    "    - armory: the available Weapons, Armor, Rings\n",
    "    \n",
    "    yields a series of (participant, cost) pairs\n",
    "    '''\n",
    "    weapons = armory['Weapons'] # exactly one weapons\n",
    "    arms    = combos(armory['Armor'], 1) # 0 or 1 armor\n",
    "    rings   = combos(armory['Rings'], 2) # 0-2 rings\n",
    "    for weapon, arm, ring in its.product(weapons, arms, rings):\n",
    "            purchases = list(flatten(([weapon], arm, ring)))\n",
    "            cost   = sum(p.cost for p in purchases)\n",
    "            damage = sum(p.damage for p in purchases)\n",
    "            armor  = sum(p.armor for p in purchases)\n",
    "            yield participant(hitpts, damage, armor), cost\n",
    "\n",
    "take(players(100, armory), 3)"
   ]
  },
  {
   "cell_type": "markdown",
   "metadata": {},
   "source": [
    "That all looks good. Now we can iterate over the players and find the minimum spend for the win."
   ]
  },
  {
   "cell_type": "code",
   "execution_count": 73,
   "metadata": {},
   "outputs": [
    {
     "data": {
      "text/plain": [
       "111"
      ]
     },
     "execution_count": 73,
     "metadata": {},
     "output_type": "execute_result"
    }
   ],
   "source": [
    "boss = participant(109, 8, 2) # The initial boss state\n",
    "\n",
    "min(cost for player, cost in players(100, armory) \n",
    "    if battle([player, boss]) == 0)"
   ]
  },
  {
   "cell_type": "markdown",
   "metadata": {},
   "source": [
    "For part two, the question is what's the most we can spend but still lose?"
   ]
  },
  {
   "cell_type": "code",
   "execution_count": 74,
   "metadata": {},
   "outputs": [
    {
     "data": {
      "text/plain": [
       "188"
      ]
     },
     "execution_count": 74,
     "metadata": {},
     "output_type": "execute_result"
    }
   ],
   "source": [
    "max(cost for player, cost in players(100, armory) \n",
    "    if battle([player, boss]) == 1)"
   ]
  },
  {
   "cell_type": "markdown",
   "metadata": {},
   "source": [
    "## [Day 22](https://adventofcode.com/2015/day/22): Wizard Simulator 20XX\n",
    " A combat game with subtle rules.\n",
    " \n",
    "The spells differ in ways that make the code tricky: some have instant results, some have extended effects, and the shield spell takes effect when cast and when it expires. I also needed to prune the search space and game state to find the result."
   ]
  },
  {
   "cell_type": "code",
   "execution_count": 75,
   "metadata": {},
   "outputs": [
    {
     "data": {
      "text/plain": [
       "900"
      ]
     },
     "execution_count": 75,
     "metadata": {},
     "output_type": "execute_result"
    }
   ],
   "source": [
    "# Inputs\n",
    "boss_damage = 9  # The boss' attacks inflict this much damage\n",
    "boss_points = 51 # The boss starts with this many points\n",
    "\n",
    "# A representation of the state at some point in the game\n",
    "game_state = collections.namedtuple('game_state',\n",
    "    ['turn',                    # Whose turn to attack?\n",
    "     'player_loss',             # (See part two) Points lost by player each turn\n",
    "     'spent',                   # Mana spent by the player\n",
    "     'points', 'armour', 'mana',# Points, armour and mana the player has\n",
    "     'effects',                 # Dict mapping active effects to durations\n",
    "     'boss_points'])            # Points the boss has\n",
    "\n",
    "\n",
    "# Each spell accepts a game state and returns a new game state\n",
    "def missile(g):    return g._replace(boss_points=g.boss_points - 4)\n",
    "def drain(g):      return g._replace(points=g.points + 2, boss_points=g.boss_points - 2)\n",
    "# Poison and recharge have the same effect each turn they are active\n",
    "def poison(g,_):   return g._replace(boss_points=g.boss_points - 3)\n",
    "def recharge(g,_): return g._replace(mana=g.mana + 101)\n",
    "# The shield affects turns 6 and 1\n",
    "def shield(g,d):   return g._replace(armour=g.armour + {1:-7, 6:7}.get(d, 0))\n",
    "\n",
    "spell  = collections.namedtuple('spell', 'effect cost duration')\n",
    "spells = (spell(missile,   53, 0),\n",
    "          spell(drain,     73, 0),\n",
    "          spell(shield,   113, 6),\n",
    "          spell(poison,   173, 6),\n",
    "          spell(recharge, 229, 5))\n",
    "\n",
    "def process_effects(g):\n",
    "    'Process active effects and return the resulting game state.'\n",
    "    for effect, duration in g.effects.items():\n",
    "        g = effect(g, duration)\n",
    "    # Reduce the effect durations, removing expired effects\n",
    "    return g._replace(effects={e:d-1 for e,d in g.effects.items() if d > 1})\n",
    "\n",
    "def cast(g, spell):\n",
    "    'Cast a spell and return the resulting game state.'\n",
    "    g = g._replace(turn=boss,\n",
    "                   spent=g.spent + spell.cost,\n",
    "                   mana=g.mana - spell.cost,\n",
    "                   effects=dict(g.effects)) # Note: copy the effects so the\n",
    "                                            # input g's effects are not modified \n",
    "    if spell.duration == 0:\n",
    "        g = spell.effect(g)\n",
    "    else:\n",
    "        g.effects[spell.effect] = spell.duration\n",
    "    return g\n",
    "\n",
    "def player(g):\n",
    "    'The player takes a turn, yielding possible new game states.'\n",
    "    g = g._replace(points=g.points - g.player_loss)\n",
    "    if g.points > 0:\n",
    "        for spell in spells:\n",
    "            if spell.cost <= g.mana and spell.effect not in g.effects:\n",
    "                yield cast(g, spell)\n",
    "\n",
    "def boss(g):\n",
    "    'The boss takes a turn, yielding the new game state.'\n",
    "    damage = max(1, boss_damage - g.armour) # At least 1 damage done\n",
    "    yield g._replace(turn=player, points=g.points - damage)\n",
    "\n",
    "def play(game):\n",
    "    'Play the game, returning the least amount of mana spent to win.'\n",
    "    M = 1_000_000\n",
    "    cheap_win = M\n",
    "\n",
    "    def won(g):\n",
    "        'Return True if this game state is a win for the player.'\n",
    "        nonlocal cheap_win\n",
    "        if g.boss_points <= 0:\n",
    "            cheap_win = min(cheap_win, g.spent)\n",
    "            return True\n",
    "\n",
    "    def lost(g):\n",
    "        'Return True if the player has lost.'\n",
    "        return g.points <= 0\n",
    "\n",
    "    def prune(g):\n",
    "        'Return True if this game state can be pruned from the search.'\n",
    "        nonlocal cheap_win\n",
    "        return g.spent >= cheap_win # Don't continue if we've overspent\n",
    "\n",
    "    while game:\n",
    "        g = process_effects(game.pop())\n",
    "        if not won(g):\n",
    "            game.extend(g for g in g.turn(g)\n",
    "                        if not (won(g) or lost(g) or prune(g)))\n",
    "\n",
    "    return None if cheap_win == M else cheap_win\n",
    "\n",
    "play([game_state(turn=player,\n",
    "                 player_loss=0,\n",
    "                 spent=0,\n",
    "                 points=50,\n",
    "                 armour=0,\n",
    "                 mana=500,\n",
    "                 boss_points=boss_points,\n",
    "                 effects={})])"
   ]
  },
  {
   "cell_type": "markdown",
   "metadata": {},
   "source": [
    "Part two adjusts the rules. You (the player) lose 1 hit point at the start of each turn you take. The question is, what it the least amount of mana you can spend and still win?\n",
    "\n",
    "I added a field, `player_loss`, to the game state."
   ]
  },
  {
   "cell_type": "code",
   "execution_count": 76,
   "metadata": {},
   "outputs": [
    {
     "data": {
      "text/plain": [
       "1216"
      ]
     },
     "execution_count": 76,
     "metadata": {},
     "output_type": "execute_result"
    }
   ],
   "source": [
    "play([game_state(turn=player,\n",
    "                 player_loss=1,\n",
    "                 spent=0,\n",
    "                 points=50,\n",
    "                 armour=0,\n",
    "                 mana=500,\n",
    "                 boss_points=boss_points,\n",
    "                 effects={})])"
   ]
  },
  {
   "cell_type": "markdown",
   "metadata": {},
   "source": [
    "## [Day 23](https://adventofcode.com/2015/day/23): Opening the Turing Lock\n",
    "We have a computer program operating on registers `a` and `b`. The instructions are:\n",
    "- `hlf r` sets register r to half its current value, then continues with the next instruction.\n",
    "- `tpl r` sets register r to triple its current value, then continues with the next instruction.\n",
    "- `inc r` increments register r, adding 1 to it, then continues with the next instruction.\n",
    "- `jmp offset` is a jump; it continues with the instruction offset away relative to itself.\n",
    "- `jie r`, offset is like jmp, but only jumps if register r is even (\"jump if even\").\n",
    "- `jio r`, offset is like jmp, but only jumps if register r is 1 (\"jump if one\", not odd)."
   ]
  },
  {
   "cell_type": "code",
   "execution_count": 77,
   "metadata": {},
   "outputs": [
    {
     "name": "stdout",
     "output_type": "stream",
     "text": [
      "jio a, +16\n",
      "inc a\n",
      "inc a\n",
      "tpl a\n",
      "tpl a\n"
     ]
    }
   ],
   "source": [
    "!head -5 input/23"
   ]
  },
  {
   "cell_type": "code",
   "execution_count": 78,
   "metadata": {},
   "outputs": [
    {
     "data": {
      "text/plain": [
       "{'a': 2, 'b': 0}"
      ]
     },
     "execution_count": 78,
     "metadata": {},
     "output_type": "execute_result"
    }
   ],
   "source": [
    "def instruction(s):\n",
    "    args = s.split()\n",
    "    val = int(args[-1]) if s.startswith('j') else 0\n",
    "    return args[0], args[1].rstrip(','), val\n",
    "\n",
    "def load_program(prog_data):\n",
    "    return [instruction(s) for s in prog_data.splitlines()]\n",
    "\n",
    "def run_program(instructions, regs, pc=0):\n",
    "    while pc in range(0, len(instructions)):\n",
    "        ins, reg, val = instructions[pc]\n",
    "        if   ins == 'hlf': regs[reg] //= 2; pc += 1\n",
    "        elif ins == 'tpl': regs[reg] *= 3 ; pc += 1\n",
    "        elif ins == 'inc': regs[reg] += 1 ; pc += 1\n",
    "        elif ins == 'jmp': pc += val\n",
    "        elif ins == 'jie': pc += 1 if regs[reg]  % 2 else val\n",
    "        elif ins == 'jio': pc += 1 if regs[reg] != 1 else val\n",
    "        else: assert False\n",
    "    return regs\n",
    "\n",
    "example_23 = '''\\\n",
    "inc a\n",
    "jio a, +2\n",
    "tpl a\n",
    "inc a\n",
    "'''\n",
    "\n",
    "run_program(load_program(example_23), {'a':0, 'b':0})"
   ]
  },
  {
   "cell_type": "code",
   "execution_count": 79,
   "metadata": {},
   "outputs": [
    {
     "data": {
      "text/plain": [
       "{'a': 1, 'b': 170}"
      ]
     },
     "execution_count": 79,
     "metadata": {},
     "output_type": "execute_result"
    }
   ],
   "source": [
    "run_program(load_program(day(23)), {'a':0, 'b':0})"
   ]
  },
  {
   "cell_type": "code",
   "execution_count": 80,
   "metadata": {},
   "outputs": [
    {
     "data": {
      "text/plain": [
       "{'a': 1, 'b': 247}"
      ]
     },
     "execution_count": 80,
     "metadata": {},
     "output_type": "execute_result"
    }
   ],
   "source": [
    "run_program(load_program(day(23)), {'a':1, 'b':0})"
   ]
  },
  {
   "cell_type": "markdown",
   "metadata": {},
   "source": [
    "## [Day 24](https://adventofcode.com/2015/day/24): It Hangs in the Balance\n",
    "\n",
    "We are asked to load Santa's sleigh, subject to constraints:\n",
    "- packages should be partitioned into 3 groups of equal weight\n",
    "- the first group should have as few packages as possible\n",
    "- the first group should additionally minimise the product of its weights\n"
   ]
  },
  {
   "cell_type": "code",
   "execution_count": 81,
   "metadata": {},
   "outputs": [
    {
     "name": "stdout",
     "output_type": "stream",
     "text": [
      "      1 1\n",
      "      1 2\n",
      "      1 3\n",
      "      1 7\n",
      "      1 11\n",
      "      1 13\n",
      "      1 17\n",
      "      1 19\n",
      "      1 23\n",
      "      1 31\n",
      "      1 37\n",
      "      1 41\n",
      "      1 43\n",
      "      1 47\n",
      "      1 53\n",
      "      1 59\n",
      "      1 61\n",
      "      1 67\n",
      "      1 71\n",
      "      1 73\n",
      "      1 79\n",
      "      1 83\n",
      "      1 89\n",
      "      1 97\n",
      "      1 101\n",
      "      1 103\n",
      "      1 107\n",
      "      1 109\n",
      "      1 113\n"
     ]
    }
   ],
   "source": [
    "! sort -n input/24 | uniq -c"
   ]
  },
  {
   "cell_type": "markdown",
   "metadata": {},
   "source": [
    "Notice that the input weights are unique -- we'll code our solution around that assumption."
   ]
  },
  {
   "cell_type": "code",
   "execution_count": 82,
   "metadata": {},
   "outputs": [
    {
     "name": "stdout",
     "output_type": "stream",
     "text": [
      "Wall time: 6min 24s\n"
     ]
    },
    {
     "data": {
      "text/plain": [
       "11846773891"
      ]
     },
     "execution_count": 82,
     "metadata": {},
     "output_type": "execute_result"
    }
   ],
   "source": [
    "def product(xs):\n",
    "    'Return the product of the numbers in `xs`'\n",
    "    return functools.reduce(operator.mul, xs, 1)\n",
    "\n",
    "def equal_sum_partitions(xs, n):\n",
    "    ''' Return the ways of dividing set `xs` into n equal sum subsets.\n",
    "    \n",
    "    The results are ordered by subset length.\n",
    "    '''\n",
    "    T, m = divmod(sum(xs), n)\n",
    "    assert m == 0\n",
    "    if n == 1:\n",
    "        yield [xs]\n",
    "    else:\n",
    "        for r in range(1, 1 + len(xs)//n):\n",
    "            for L in its.combinations(xs, r):\n",
    "                 if sum(L) == T:\n",
    "                     rest = xs - set(L)\n",
    "                     yield from ([L] + r for r in equal_sum_partitions(rest, n-1))\n",
    "\n",
    "\n",
    "def quantum_entanglement(weights, n):\n",
    "    _, ps = next(its.groupby(equal_sum_partitions(weights, n), \n",
    "                             key=lambda p: len(p[0])))\n",
    "    return min(product(p[0]) for p in ps)\n",
    "\n",
    "assert quantum_entanglement(set([1,2,3,4,5,7,8,9,10,11]), 3) == 99\n",
    "%time quantum_entanglement(set(ints(day(24))), 3)"
   ]
  },
  {
   "cell_type": "markdown",
   "metadata": {},
   "source": [
    "Part two asks for the quantum entanglement when the parcels can be split 4 ways."
   ]
  },
  {
   "cell_type": "code",
   "execution_count": 83,
   "metadata": {},
   "outputs": [
    {
     "name": "stdout",
     "output_type": "stream",
     "text": [
      "Wall time: 1h 7min 14s\n"
     ]
    },
    {
     "data": {
      "text/plain": [
       "80393059"
      ]
     },
     "execution_count": 83,
     "metadata": {},
     "output_type": "execute_result"
    }
   ],
   "source": [
    "%time quantum_entanglement(set(ints(day(24))), 4)"
   ]
  },
  {
   "cell_type": "markdown",
   "metadata": {},
   "source": [
    "Ouch! But the job's done."
   ]
  },
  {
   "cell_type": "markdown",
   "metadata": {},
   "source": [
    "## [Day 25](https://adventofcode.com/2015/day/25): Let It Snow\n",
    "\n",
    "A grid is filled diagonally in the order shown:\n",
    "\n",
    "```\n",
    "   | 1   2   3   4   5   6  \n",
    "---+---+---+---+---+---+---+\n",
    " 1 |  1   3   6  10  15  21\n",
    " 2 |  2   5   9  14  20\n",
    " 3 |  4   8  13  19\n",
    " 4 |  7  12  18\n",
    " 5 | 11  17\n",
    " 6 | 16\n",
    " ```\n",
    " \n",
    " The first code is `20151125`. If N is the nth number, the next number will be `(N * 252533) % 33554393`.\n",
    " \n",
    " The puzzle input reads:\n",
    " \n",
    " > To continue, please consult the code grid in the manual.  Enter the code at row 2978, column 3083."
   ]
  },
  {
   "cell_type": "code",
   "execution_count": 84,
   "metadata": {},
   "outputs": [
    {
     "data": {
      "text/plain": [
       "[(1, 1, 20151125),\n",
       " (2, 1, 31916031),\n",
       " (1, 2, 18749137),\n",
       " (3, 1, 16080970),\n",
       " (2, 2, 21629792),\n",
       " (1, 3, 17289845),\n",
       " (4, 1, 24592653),\n",
       " (3, 2, 8057251),\n",
       " (2, 3, 16929656),\n",
       " (1, 4, 30943339)]"
      ]
     },
     "execution_count": 84,
     "metadata": {},
     "output_type": "execute_result"
    }
   ],
   "source": [
    "def grid_values():\n",
    "    seed = 20151125\n",
    "    for diagonal in its.count(1):\n",
    "        for r in range(diagonal):\n",
    "            yield diagonal - r, r + 1, seed\n",
    "            seed = (seed * 252533) % 33554393\n",
    "          \n",
    "take(grid_values(), 10)"
   ]
  },
  {
   "cell_type": "markdown",
   "metadata": {},
   "source": [
    "Yes, that looks fine. Let's find the real answer."
   ]
  },
  {
   "cell_type": "code",
   "execution_count": 85,
   "metadata": {},
   "outputs": [
    {
     "data": {
      "text/plain": [
       "2650453"
      ]
     },
     "execution_count": 85,
     "metadata": {},
     "output_type": "execute_result"
    }
   ],
   "source": [
    "next(v for r, c, v in grid_values() if r == 2978 and c == 3083)"
   ]
  },
  {
   "cell_type": "markdown",
   "metadata": {},
   "source": [
    "![Completed calendar](calendar.png \"Lovely snow scene\")"
   ]
  },
  {
   "cell_type": "code",
   "execution_count": null,
   "metadata": {},
   "outputs": [],
   "source": []
  }
 ],
 "metadata": {
  "kernelspec": {
   "display_name": "Python 3",
   "language": "python",
   "name": "python3"
  },
  "language_info": {
   "codemirror_mode": {
    "name": "ipython",
    "version": 3
   },
   "file_extension": ".py",
   "mimetype": "text/x-python",
   "name": "python",
   "nbconvert_exporter": "python",
   "pygments_lexer": "ipython3",
   "version": "3.7.0"
  }
 },
 "nbformat": 4,
 "nbformat_minor": 2
}
